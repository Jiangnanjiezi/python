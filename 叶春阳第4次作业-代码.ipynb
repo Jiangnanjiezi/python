{
 "cells": [
  {
   "cell_type": "code",
   "execution_count": 20,
   "id": "a6fd3c81",
   "metadata": {},
   "outputs": [
    {
     "name": "stdout",
     "output_type": "stream",
     "text": [
      "请输入密码位数(不小于6位)：a\n",
      "请输入整数\n",
      "请输入密码位数(不小于6位)：5\n",
      "密码位数不小于6\n",
      "请输入密码位数(不小于6位)：7\n",
      "密码位数为:7位\n",
      "请输入学生，输入0结束：李明\n",
      "请输入学生，输入0结束：李刚\n",
      "请输入学生，输入0结束：李丽\n",
      "请输入学生，输入0结束：0\n",
      "密码为： [('李明', 'iIK!1eZ'), ('李刚', 'vH.5xYl'), ('李丽', 'os7uJ!s')]\n"
     ]
    }
   ],
   "source": [
    "import random\n",
    "\n",
    "#生成随机符号\n",
    "def get_char():\n",
    "    return random.choices('?!.#*@&$',k=1)\n",
    "\n",
    "#生成随机数字\n",
    "def get_digit():\n",
    "    return random.choices('0123456789',k=1)\n",
    "\n",
    "#生成随机字母\n",
    "def get_letter(count):\n",
    "    return random.choices('ABCDEFGHIJKLMNOPQRSTUVWXYZabcdefghijklmnopqrstuvwxyz',k=count)   #从26个大写字母中随机选择k个\n",
    "\n",
    "#生成密码\n",
    "def get_password(length):\n",
    "    password=[]\n",
    "    list_char=get_char()\n",
    "    list_digit=get_digit()\n",
    "    #拼接\n",
    "    password.extend(list_char)\n",
    "    password.extend(list_digit)\n",
    "    #补齐位数\n",
    "    letter_length=length-len(password)\n",
    "    list_letter=get_letter(letter_length)\n",
    "    password.extend(list_letter)\n",
    "    #shuffle函数用于打乱密码顺序\n",
    "    random.shuffle(password)\n",
    "    #返回字符串\n",
    "    return ''.join(password)\n",
    "\n",
    "#输入学生\n",
    "def get_student():\n",
    "    ls=[]\n",
    "    while True:\n",
    "        stu=input('请输入学生，输入0结束：')\n",
    "        if('0'!=stu):\n",
    "            ls.append(stu)\n",
    "        else:\n",
    "            break\n",
    "    return ls\n",
    "\n",
    "#输入密码位数\n",
    "def get_length():\n",
    "    while True:\n",
    "        string=input('请输入密码位数(不小于6位)：')\n",
    "        if string.isdigit():\n",
    "            length=int(string)\n",
    "            if(length>=6):\n",
    "                print(\"密码位数为:%d位\"%(length))\n",
    "                break\n",
    "            else:\n",
    "                print(\"密码位数不小于6\")\n",
    "        else:    \n",
    "            print(\"请输入整数\")\n",
    "    return length   \n",
    "\n",
    "\n",
    "\n",
    "if __name__ == '__main__':\n",
    "    length=get_length()\n",
    "    students=get_student()\n",
    "    \n",
    "    passwords=[]\n",
    "    for i in students:\n",
    "        passwords.append((i,get_password(length)))\n",
    "    print(\"密码为：\",passwords)\n",
    "    \n",
    "    "
   ]
  },
  {
   "cell_type": "code",
   "execution_count": null,
   "id": "bac1f611",
   "metadata": {},
   "outputs": [],
   "source": []
  }
 ],
 "metadata": {
  "kernelspec": {
   "display_name": "Python 3 (ipykernel)",
   "language": "python",
   "name": "python3"
  },
  "language_info": {
   "codemirror_mode": {
    "name": "ipython",
    "version": 3
   },
   "file_extension": ".py",
   "mimetype": "text/x-python",
   "name": "python",
   "nbconvert_exporter": "python",
   "pygments_lexer": "ipython3",
   "version": "3.9.12"
  }
 },
 "nbformat": 4,
 "nbformat_minor": 5
}
