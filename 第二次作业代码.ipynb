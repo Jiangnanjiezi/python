{
 "cells": [
  {
   "cell_type": "code",
   "execution_count": 5,
   "id": "ba5de20e",
   "metadata": {},
   "outputs": [],
   "source": [
    "def strToint(strs):\n",
    "    # 判断是否是数字，如果是返回True，否则返回False\n",
    "    def isNumber(c):\n",
    "        return c >= '0' and c <= '9'    \n",
    "    \n",
    "    if strs == '':\n",
    "        print(\"输入不能为空，请重新输入\")\n",
    "        return False,0\n",
    "    \n",
    "    res = 0 # 求和\n",
    "    i = 0 # 索引\n",
    "    # 定义是否是负数\n",
    "    minus = False\n",
    "    \n",
    "    if list(strs)[i] == '-': # 结果是负数\n",
    "        minus = True\n",
    "        i += 1\n",
    "    if list(strs)[i] == '+': # 结果是整数\n",
    "        i += 1\n",
    "    \n",
    "    while i < len(strs):\n",
    "        if isNumber(list(strs)[i]):\n",
    "            res = res * 10 + int(list(strs)[i])\n",
    "        else:\n",
    "            print (\"您输入的不是整数，请重新输入！\")\n",
    "            return False,0\n",
    "        i += 1\n",
    "    return  True,-res if minus else res"
   ]
  },
  {
   "cell_type": "code",
   "execution_count": 6,
   "id": "0232fe4e",
   "metadata": {},
   "outputs": [
    {
     "name": "stdout",
     "output_type": "stream",
     "text": [
      "请初始化楼层号\n",
      "最高楼层号是：0\n",
      "输入有误，请输入正整数！\n",
      "最高楼层号是：-1\n",
      "输入有误，请输入正整数！\n",
      "最高楼层号是：a\n",
      "您输入的不是整数，请重新输入！\n",
      "最高楼层号是：a\n",
      "您输入的不是整数，请重新输入！\n",
      "最高楼层号是：10\n",
      "最低楼层号是（没有地下楼层则输入1，有则输入负数，如-2）:1\n"
     ]
    }
   ],
   "source": [
    "print(\"请初始化楼层号\")\n",
    "\n",
    "while True:\n",
    "    tall = input(\"最高楼层号是：\")\n",
    "    result = strToint(tall)\n",
    "    if result[0]:       \n",
    "        if result[1] > 0:\n",
    "            tall = result[1]\n",
    "            break\n",
    "        else:\n",
    "            print(\"输入有误，请输入正整数！\")\n",
    "\n",
    "while True:\n",
    "    low = input(\"最低楼层号是（没有地下楼层则输入1，有则输入负数，如-2）:\")\n",
    "    result = strToint(low)\n",
    "    if result[0]:       \n",
    "        if result[1] < 0 or  result[1] == 1:\n",
    "            low = result[1]\n",
    "            break\n",
    "        else:\n",
    "            print(\"输入有误，请输入负整数或1！\")    "
   ]
  },
  {
   "cell_type": "code",
   "execution_count": 7,
   "id": "01f5b0cc",
   "metadata": {},
   "outputs": [
    {
     "name": "stdout",
     "output_type": "stream",
     "text": [
      "本楼最高楼层号为：10,最低楼层号为：1\n",
      "输入您要去的楼层号即可得到实际楼层,输入0退出。\n",
      "请输入想去的楼层号：-1\n",
      "您输入的楼层号不存在，请重新输入！\n",
      "请输入想去的楼层号：4\n",
      "实际到达楼层为：4层\n",
      "请输入想去的楼层号：0\n",
      "谢谢您的参与，再见~\n"
     ]
    }
   ],
   "source": [
    "print(\"本楼最高楼层号为：%d,最低楼层号为：%d\"%(tall, low))\n",
    "print(\"输入您要去的楼层号即可得到实际楼层,输入0退出。\")\n",
    "while True:\n",
    "    result = input(\"请输入想去的楼层号：\")\n",
    "    result = strToint(result)\n",
    "    if result[0]:\n",
    "        floor = result[1]\n",
    "        if floor == 0:\n",
    "            print(\"谢谢您的参与，再见~\")\n",
    "            break\n",
    "        elif floor < low or floor > tall or floor == 14 or floor == 18:\n",
    "            print (\"您输入的楼层号不存在，请重新输入！\")\n",
    "        elif floor < 0:\n",
    "            print(\"实际到达楼层为：地下%d层\"%-floor )\n",
    "        elif floor > 0 and floor < 14:\n",
    "            print(\"实际到达楼层为：%d层\"%floor )\n",
    "        elif floor > 14 and floor < 18:\n",
    "            print(\"实际到达楼层为：%d层\" % (floor - 1))\n",
    "        else:\n",
    "            print(\"实际到达楼层为：%d层\" % (floor - 2))"
   ]
  },
  {
   "cell_type": "code",
   "execution_count": null,
   "id": "017ddf93",
   "metadata": {},
   "outputs": [],
   "source": []
  },
  {
   "cell_type": "code",
   "execution_count": null,
   "id": "e6789eaa",
   "metadata": {},
   "outputs": [],
   "source": []
  }
 ],
 "metadata": {
  "kernelspec": {
   "display_name": "Python 3 (ipykernel)",
   "language": "python",
   "name": "python3"
  },
  "language_info": {
   "codemirror_mode": {
    "name": "ipython",
    "version": 3
   },
   "file_extension": ".py",
   "mimetype": "text/x-python",
   "name": "python",
   "nbconvert_exporter": "python",
   "pygments_lexer": "ipython3",
   "version": "3.9.12"
  }
 },
 "nbformat": 4,
 "nbformat_minor": 5
}
